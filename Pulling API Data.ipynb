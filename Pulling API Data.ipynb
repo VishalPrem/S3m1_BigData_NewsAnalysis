{
 "cells": [
  {
   "cell_type": "code",
   "execution_count": 7,
   "metadata": {},
   "outputs": [],
   "source": [
    "import requests\n"
   ]
  },
  {
   "cell_type": "code",
   "execution_count": 25,
   "metadata": {},
   "outputs": [
    {
     "name": "stdout",
     "output_type": "stream",
     "text": [
      "Another UP police ‘encounter’ victim awaits justice\n",
      "In harmony with Mother Nature\n",
      "No sweeping change — on Swachh Bharat Mission\n",
      "A populist haze — on Brazil polls\n",
      "Forgo S-400 system, U.S. tells India\n",
      "UN urges India not to deport seven Rohingya\n",
      "People are in distress in Madhya Pradesh: Kamal Nath\n",
      "More cases filed against evangelist Mohan Lazarus for his remarks against Hindu deities\n",
      "Maharashtra moves Supreme Court against Delhi High Court order ending house arrest of activist Gautam Navlakha\n",
      "Chief Justice Ranjan Gogoi rings in change\n"
     ]
    }
   ],
   "source": [
    "THE_HINDU_API_KEY='1a9b01e3b95d457db2f572a9d032ece7'\n",
    "the_hindu_data = requests.get(\"https://newsapi.org/v2/top-headlines?sources=the-hindu&apiKey=\"+THE_HINDU_API_KEY).json()\n",
    "\n",
    "for i in range(0,10):\n",
    "    print(the_hindu_data['articles'][i]['title'])"
   ]
  },
  {
   "cell_type": "code",
   "execution_count": 24,
   "metadata": {},
   "outputs": [
    {
     "name": "stdout",
     "output_type": "stream",
     "text": [
      "A clean environment for human empowerment\n",
      "1st batch of 7 Rohingya to be deported to Myanmar today - Times of India\n",
      "Child abuse victims to get more time to report cases - Times of India\n",
      "Cut-bandhan? Mayawati rules out tie-up with Congress for Rajasthan, MP polls - Times of India\n",
      "Soon, your face will be your boarding card - Times of India\n",
      "How Centre convinced farmers to go back home - Times of India\n",
      "Red alert in three districts of Kerala, CM calls emergency meet - Times of India\n"
     ]
    },
    {
     "ename": "IndexError",
     "evalue": "list index out of range",
     "output_type": "error",
     "traceback": [
      "\u001b[1;31m---------------------------------------------------------------------------\u001b[0m",
      "\u001b[1;31mIndexError\u001b[0m                                Traceback (most recent call last)",
      "\u001b[1;32m<ipython-input-24-905c679aeef9>\u001b[0m in \u001b[0;36m<module>\u001b[1;34m()\u001b[0m\n\u001b[0;32m      3\u001b[0m \u001b[1;33m\u001b[0m\u001b[0m\n\u001b[0;32m      4\u001b[0m \u001b[1;32mfor\u001b[0m \u001b[0mi\u001b[0m \u001b[1;32min\u001b[0m \u001b[0mrange\u001b[0m\u001b[1;33m(\u001b[0m\u001b[1;36m0\u001b[0m\u001b[1;33m,\u001b[0m\u001b[1;36m10\u001b[0m\u001b[1;33m)\u001b[0m\u001b[1;33m:\u001b[0m\u001b[1;33m\u001b[0m\u001b[0m\n\u001b[1;32m----> 5\u001b[1;33m     \u001b[0mprint\u001b[0m\u001b[1;33m(\u001b[0m\u001b[0mthe_toi_data\u001b[0m\u001b[1;33m[\u001b[0m\u001b[1;34m'articles'\u001b[0m\u001b[1;33m]\u001b[0m\u001b[1;33m[\u001b[0m\u001b[0mi\u001b[0m\u001b[1;33m]\u001b[0m\u001b[1;33m[\u001b[0m\u001b[1;34m'title'\u001b[0m\u001b[1;33m]\u001b[0m\u001b[1;33m)\u001b[0m\u001b[1;33m\u001b[0m\u001b[0m\n\u001b[0m",
      "\u001b[1;31mIndexError\u001b[0m: list index out of range"
     ]
    }
   ],
   "source": [
    "THE_TOI_API_KEY='1a9b01e3b95d457db2f572a9d032ece7'\n",
    "the_toi_data = requests.get(\"https://newsapi.org/v2/top-headlines?sources=the-times-of-india&apiKey=\"+THE_HINDU_API_KEY).json()\n",
    "\n",
    "for i in range(0,10):\n",
    "    print(the_toi_data['articles'][i]['title'])\n"
   ]
  },
  {
   "cell_type": "code",
   "execution_count": 26,
   "metadata": {},
   "outputs": [
    {
     "name": "stdout",
     "output_type": "stream",
     "text": [
      "Democratic Senators Accuse Republicans Of Lying About Kavanaugh's Earlier FBI Reports\n",
      "National Council Of Churches Calls For Brett Kavanaugh's Withdrawal\n",
      "Gab, Neo-Nazis' Favorite Social Media Platform, Frozen By Payment Processor For ... Porn\n",
      "Sarah Sanders Defends Trump's Christine Blasey Ford Comments, Twitter Users Flip\n",
      "Don't Expect The Brett Kavanaugh FBI Investigation To Solve Everything\n",
      "Connie Chung Reveals She Was Sexually Assaulted In Letter To Christine Blasey Ford\n",
      "Christine Blasey Ford's Friend Says Ford Didn't Coach Her On Polygraph Exam\n",
      "Christian Bale Is Unrecognizable As Dick Cheney In First 'Vice' Trailer\n"
     ]
    },
    {
     "ename": "IndexError",
     "evalue": "list index out of range",
     "output_type": "error",
     "traceback": [
      "\u001b[1;31m---------------------------------------------------------------------------\u001b[0m",
      "\u001b[1;31mIndexError\u001b[0m                                Traceback (most recent call last)",
      "\u001b[1;32m<ipython-input-26-555e58d2a7e0>\u001b[0m in \u001b[0;36m<module>\u001b[1;34m()\u001b[0m\n\u001b[0;32m      3\u001b[0m \u001b[1;33m\u001b[0m\u001b[0m\n\u001b[0;32m      4\u001b[0m \u001b[1;32mfor\u001b[0m \u001b[0mi\u001b[0m \u001b[1;32min\u001b[0m \u001b[0mrange\u001b[0m\u001b[1;33m(\u001b[0m\u001b[1;36m0\u001b[0m\u001b[1;33m,\u001b[0m\u001b[1;36m10\u001b[0m\u001b[1;33m)\u001b[0m\u001b[1;33m:\u001b[0m\u001b[1;33m\u001b[0m\u001b[0m\n\u001b[1;32m----> 5\u001b[1;33m     \u001b[0mprint\u001b[0m\u001b[1;33m(\u001b[0m\u001b[0mthe_toi_data\u001b[0m\u001b[1;33m[\u001b[0m\u001b[1;34m'articles'\u001b[0m\u001b[1;33m]\u001b[0m\u001b[1;33m[\u001b[0m\u001b[0mi\u001b[0m\u001b[1;33m]\u001b[0m\u001b[1;33m[\u001b[0m\u001b[1;34m'title'\u001b[0m\u001b[1;33m]\u001b[0m\u001b[1;33m)\u001b[0m\u001b[1;33m\u001b[0m\u001b[0m\n\u001b[0m",
      "\u001b[1;31mIndexError\u001b[0m: list index out of range"
     ]
    }
   ],
   "source": [
    "THE_TOI_API_KEY='1a9b01e3b95d457db2f572a9d032ece7'\n",
    "the_toi_data = requests.get(\"https://newsapi.org/v2/top-headlines?sources=the-huffington-post&apiKey=\"+THE_HINDU_API_KEY).json()\n",
    "\n",
    "for i in range(0,10):\n",
    "    print(the_toi_data['articles'][i]['title'])"
   ]
  },
  {
   "cell_type": "code",
   "execution_count": 27,
   "metadata": {},
   "outputs": [
    {
     "name": "stdout",
     "output_type": "stream",
     "text": [
      "In Risky Shift, Trump and G.O.P. Directly Assail Kavanaugh’s Accuser\n",
      "With a Transformed Judiciary in Sight, McConnell ‘Will Not Be Intimidated’\n",
      "Planning to Vote in the November Election? Why Most Americans Probably Won’t.\n",
      "White House Has a Message for Republican Candidates: Stay Close to Trump\n",
      "In Tennessee Senate Race, Financial Missteps Linger in the Background\n",
      "Trump Attacks ‘Failing New York Times’ Over Tax Scheme Reporting\n",
      "Swing Republican Senators Condemn Trump’s Mockery of Kavanaugh Accuser\n",
      "Vulgar Texts and Dancer Turmoil Force City Ballet to Look in the Mirror\n",
      "11 Takeaways From The Times’s Investigation Into Trump’s Wealth\n",
      "4 Ways Fred Trump Made Donald Trump and his Siblings Rich\n"
     ]
    }
   ],
   "source": [
    "THE_TOI_API_KEY='1a9b01e3b95d457db2f572a9d032ece7'\n",
    "the_toi_data = requests.get(\"https://newsapi.org/v2/top-headlines?sources=the-new-york-times&apiKey=\"+THE_HINDU_API_KEY).json()\n",
    "\n",
    "for i in range(0,10):\n",
    "    print(the_toi_data['articles'][i]['title'])"
   ]
  },
  {
   "cell_type": "code",
   "execution_count": null,
   "metadata": {},
   "outputs": [],
   "source": []
  }
 ],
 "metadata": {
  "kernelspec": {
   "display_name": "Python 3",
   "language": "python",
   "name": "python3"
  },
  "language_info": {
   "codemirror_mode": {
    "name": "ipython",
    "version": 3
   },
   "file_extension": ".py",
   "mimetype": "text/x-python",
   "name": "python",
   "nbconvert_exporter": "python",
   "pygments_lexer": "ipython3",
   "version": "3.6.1"
  }
 },
 "nbformat": 4,
 "nbformat_minor": 2
}
